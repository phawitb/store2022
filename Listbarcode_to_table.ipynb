{
 "cells": [
  {
   "cell_type": "code",
   "execution_count": 5,
   "id": "6e9d4f0c",
   "metadata": {},
   "outputs": [
    {
     "data": {
      "text/plain": [
       "0"
      ]
     },
     "execution_count": 5,
     "metadata": {},
     "output_type": "execute_result"
    }
   ],
   "source": [
    "import pandas as pd\n",
    "\n",
    "df_customer = pd.read_csv('data/customers.csv')  \n",
    "\n",
    "def find_index(df_customer,customer_id):\n",
    "    for i,id in enumerate(df_customer['id']):\n",
    "        if str(customer_id) == str(id):\n",
    "            return i\n",
    "    return None\n",
    "\n",
    "find_index(df_customer,'4903333245581')"
   ]
  },
  {
   "cell_type": "code",
   "execution_count": 4,
   "id": "1e7ac07f",
   "metadata": {},
   "outputs": [],
   "source": []
  },
  {
   "cell_type": "code",
   "execution_count": 17,
   "id": "f10462ec",
   "metadata": {},
   "outputs": [],
   "source": [
    "def create_table(df,Barcodes):\n",
    "    # table = 'Total 9999//aaaaa|12|120/bbbb|1|100/ccccc|12|120/ddddd|1|100'\n",
    "    df_barcode = []\n",
    "    for i in set(df['barcode']):\n",
    "        df_barcode.append(str(i))\n",
    "    keys = list(set(Barcodes).intersection(set(df_barcode)))  #grt barcode key only in database\n",
    "    \n",
    "    table = ''\n",
    "    Total = 0 \n",
    "    for k in keys:\n",
    "        barcode = k\n",
    "        count = Barcodes.count(k)\n",
    "        name,price = find_product_data(df,barcode)\n",
    "        total = price*count\n",
    "        Total += total\n",
    "#         print(barcode,count,name,price,total)\n",
    "        table += f'/{name}|{count}|{total}'\n",
    "\n",
    "    table = f'Total {Total}/{table}'\n",
    "    return table\n",
    "\n",
    "def find_product_data(df,barcode):\n",
    "    for i,b in enumerate(df['barcode']):\n",
    "        if str(b) == str(barcode):\n",
    "            return df['name'][i],df['price'][i]\n",
    "    else:\n",
    "        return None,None"
   ]
  },
  {
   "cell_type": "code",
   "execution_count": 18,
   "id": "cb97d23d",
   "metadata": {},
   "outputs": [
    {
     "data": {
      "text/plain": [
       "'Total 100//product4|5|100'"
      ]
     },
     "execution_count": 18,
     "metadata": {},
     "output_type": "execute_result"
    }
   ],
   "source": [
    "import pandas as pd\n",
    "\n",
    "df = pd.read_csv('data/products.csv') \n",
    "Barcodes = ['9786161820626', '9786161820626', '9786161820626', '9786161820626', '9786161820626']\n",
    "create_table(df,Barcodes)"
   ]
  },
  {
   "cell_type": "code",
   "execution_count": 19,
   "id": "b90e60e2",
   "metadata": {},
   "outputs": [
    {
     "data": {
      "text/plain": [
       "('product4', 20)"
      ]
     },
     "execution_count": 19,
     "metadata": {},
     "output_type": "execute_result"
    }
   ],
   "source": [
    "find_product_data(df,'9786161820626')\n",
    "    "
   ]
  },
  {
   "cell_type": "code",
   "execution_count": 15,
   "id": "7191b2a7",
   "metadata": {},
   "outputs": [
    {
     "data": {
      "text/html": [
       "<div>\n",
       "<style scoped>\n",
       "    .dataframe tbody tr th:only-of-type {\n",
       "        vertical-align: middle;\n",
       "    }\n",
       "\n",
       "    .dataframe tbody tr th {\n",
       "        vertical-align: top;\n",
       "    }\n",
       "\n",
       "    .dataframe thead th {\n",
       "        text-align: right;\n",
       "    }\n",
       "</style>\n",
       "<table border=\"1\" class=\"dataframe\">\n",
       "  <thead>\n",
       "    <tr style=\"text-align: right;\">\n",
       "      <th></th>\n",
       "      <th>barcode</th>\n",
       "      <th>name</th>\n",
       "      <th>price</th>\n",
       "    </tr>\n",
       "  </thead>\n",
       "  <tbody>\n",
       "    <tr>\n",
       "      <th>0</th>\n",
       "      <td>9187786495792</td>\n",
       "      <td>product1</td>\n",
       "      <td>5</td>\n",
       "    </tr>\n",
       "    <tr>\n",
       "      <th>1</th>\n",
       "      <td>9781186495798</td>\n",
       "      <td>product2</td>\n",
       "      <td>10</td>\n",
       "    </tr>\n",
       "    <tr>\n",
       "      <th>2</th>\n",
       "      <td>9781786495792</td>\n",
       "      <td>product3</td>\n",
       "      <td>15</td>\n",
       "    </tr>\n",
       "    <tr>\n",
       "      <th>3</th>\n",
       "      <td>9786161820626</td>\n",
       "      <td>product4</td>\n",
       "      <td>20</td>\n",
       "    </tr>\n",
       "  </tbody>\n",
       "</table>\n",
       "</div>"
      ],
      "text/plain": [
       "         barcode      name  price\n",
       "0  9187786495792  product1      5\n",
       "1  9781186495798  product2     10\n",
       "2  9781786495792  product3     15\n",
       "3  9786161820626  product4     20"
      ]
     },
     "execution_count": 15,
     "metadata": {},
     "output_type": "execute_result"
    }
   ],
   "source": [
    "df = pd.read_csv('data/products.csv') \n",
    "df"
   ]
  },
  {
   "cell_type": "code",
   "execution_count": null,
   "id": "ca7af11b",
   "metadata": {},
   "outputs": [],
   "source": []
  },
  {
   "cell_type": "code",
   "execution_count": null,
   "id": "c300d119",
   "metadata": {},
   "outputs": [],
   "source": []
  },
  {
   "cell_type": "code",
   "execution_count": null,
   "id": "458a457b",
   "metadata": {},
   "outputs": [],
   "source": []
  },
  {
   "cell_type": "code",
   "execution_count": 3,
   "id": "be40c03d",
   "metadata": {},
   "outputs": [
    {
     "data": {
      "text/html": [
       "<div>\n",
       "<style scoped>\n",
       "    .dataframe tbody tr th:only-of-type {\n",
       "        vertical-align: middle;\n",
       "    }\n",
       "\n",
       "    .dataframe tbody tr th {\n",
       "        vertical-align: top;\n",
       "    }\n",
       "\n",
       "    .dataframe thead th {\n",
       "        text-align: right;\n",
       "    }\n",
       "</style>\n",
       "<table border=\"1\" class=\"dataframe\">\n",
       "  <thead>\n",
       "    <tr style=\"text-align: right;\">\n",
       "      <th></th>\n",
       "      <th>barcode</th>\n",
       "      <th>name</th>\n",
       "      <th>price</th>\n",
       "    </tr>\n",
       "  </thead>\n",
       "  <tbody>\n",
       "    <tr>\n",
       "      <th>0</th>\n",
       "      <td>9187786495792</td>\n",
       "      <td>product1</td>\n",
       "      <td>5</td>\n",
       "    </tr>\n",
       "    <tr>\n",
       "      <th>1</th>\n",
       "      <td>9781186495798</td>\n",
       "      <td>product2</td>\n",
       "      <td>10</td>\n",
       "    </tr>\n",
       "    <tr>\n",
       "      <th>2</th>\n",
       "      <td>9781786495792</td>\n",
       "      <td>product3</td>\n",
       "      <td>15</td>\n",
       "    </tr>\n",
       "    <tr>\n",
       "      <th>3</th>\n",
       "      <td>9786161820626</td>\n",
       "      <td>product4</td>\n",
       "      <td>20</td>\n",
       "    </tr>\n",
       "  </tbody>\n",
       "</table>\n",
       "</div>"
      ],
      "text/plain": [
       "         barcode      name  price\n",
       "0  9187786495792  product1      5\n",
       "1  9781186495798  product2     10\n",
       "2  9781786495792  product3     15\n",
       "3  9786161820626  product4     20"
      ]
     },
     "execution_count": 3,
     "metadata": {},
     "output_type": "execute_result"
    }
   ],
   "source": [
    "import pandas as pd\n",
    "df = pd.read_csv('data/products.csv') \n",
    "df_customer = pd.read_csv('data/customers.csv')  \n",
    "df"
   ]
  },
  {
   "cell_type": "code",
   "execution_count": 11,
   "id": "7d0999bb",
   "metadata": {},
   "outputs": [
    {
     "data": {
      "text/html": [
       "<div>\n",
       "<style scoped>\n",
       "    .dataframe tbody tr th:only-of-type {\n",
       "        vertical-align: middle;\n",
       "    }\n",
       "\n",
       "    .dataframe tbody tr th {\n",
       "        vertical-align: top;\n",
       "    }\n",
       "\n",
       "    .dataframe thead th {\n",
       "        text-align: right;\n",
       "    }\n",
       "</style>\n",
       "<table border=\"1\" class=\"dataframe\">\n",
       "  <thead>\n",
       "    <tr style=\"text-align: right;\">\n",
       "      <th></th>\n",
       "      <th>id</th>\n",
       "      <th>name</th>\n",
       "      <th>balance</th>\n",
       "    </tr>\n",
       "  </thead>\n",
       "  <tbody>\n",
       "    <tr>\n",
       "      <th>0</th>\n",
       "      <td>4903333245581</td>\n",
       "      <td>phawit</td>\n",
       "      <td>1000</td>\n",
       "    </tr>\n",
       "  </tbody>\n",
       "</table>\n",
       "</div>"
      ],
      "text/plain": [
       "              id    name  balance\n",
       "0  4903333245581  phawit     1000"
      ]
     },
     "execution_count": 11,
     "metadata": {},
     "output_type": "execute_result"
    }
   ],
   "source": [
    "df_customer"
   ]
  },
  {
   "cell_type": "code",
   "execution_count": null,
   "id": "c84b1271",
   "metadata": {},
   "outputs": [],
   "source": [
    "find"
   ]
  },
  {
   "cell_type": "code",
   "execution_count": null,
   "id": "4b25174c",
   "metadata": {},
   "outputs": [],
   "source": []
  },
  {
   "cell_type": "code",
   "execution_count": null,
   "id": "0ad8684e",
   "metadata": {},
   "outputs": [],
   "source": []
  },
  {
   "cell_type": "code",
   "execution_count": 7,
   "id": "431d29ac",
   "metadata": {},
   "outputs": [],
   "source": [
    "Barcodes = ['9786161820626', '123456','9781786495792', '9781786495792', '9187786495792', '9781786495792', '9781786495792', '9781186495798', '9187786495792', '9781786495792']"
   ]
  },
  {
   "cell_type": "code",
   "execution_count": 8,
   "id": "739e9514",
   "metadata": {},
   "outputs": [],
   "source": [
    "def find_product_data(df,barcode):\n",
    "    for i,b in enumerate(df['barcode']):\n",
    "        if str(b) == str(barcode):\n",
    "            return df['name'][i],df['price'][i]\n",
    "    else:\n",
    "        return None,None"
   ]
  },
  {
   "cell_type": "code",
   "execution_count": 10,
   "id": "633f2bc1",
   "metadata": {},
   "outputs": [
    {
     "data": {
      "text/plain": [
       "'Total 115//product3|5|75/product1|2|10/product2|1|10/product4|1|20'"
      ]
     },
     "execution_count": 10,
     "metadata": {},
     "output_type": "execute_result"
    }
   ],
   "source": [
    "def create_table(df,Barcodes):\n",
    "    # table = 'Total 9999//aaaaa|12|120/bbbb|1|100/ccccc|12|120/ddddd|1|100'\n",
    "    df_barcode = []\n",
    "    for i in set(df['barcode']):\n",
    "        df_barcode.append(str(i))\n",
    "    df['barcode'] = df_barcode\n",
    "    keys = list(set(Barcodes).intersection(set(df['barcode'])))  #grt barcode key only in database\n",
    "    \n",
    "    table = ''\n",
    "    Total = 0 \n",
    "    for k in keys:\n",
    "        barcode = k\n",
    "        count = Barcodes.count(k)\n",
    "        name,price = find_product_data(df,barcode)\n",
    "        total = price*count\n",
    "        Total += total\n",
    "#         print(barcode,count,name,price,total)\n",
    "        table += f'/{name}|{count}|{total}'\n",
    "\n",
    "    table = f'Total {Total}/{table}'\n",
    "    return table\n",
    "\n",
    "create_table(df,Barcodes)"
   ]
  },
  {
   "cell_type": "code",
   "execution_count": 45,
   "id": "a07022f1",
   "metadata": {},
   "outputs": [
    {
     "data": {
      "text/html": [
       "<div>\n",
       "<style scoped>\n",
       "    .dataframe tbody tr th:only-of-type {\n",
       "        vertical-align: middle;\n",
       "    }\n",
       "\n",
       "    .dataframe tbody tr th {\n",
       "        vertical-align: top;\n",
       "    }\n",
       "\n",
       "    .dataframe thead th {\n",
       "        text-align: right;\n",
       "    }\n",
       "</style>\n",
       "<table border=\"1\" class=\"dataframe\">\n",
       "  <thead>\n",
       "    <tr style=\"text-align: right;\">\n",
       "      <th></th>\n",
       "      <th>customer</th>\n",
       "      <th>table</th>\n",
       "      <th>timestamp</th>\n",
       "    </tr>\n",
       "  </thead>\n",
       "  <tbody>\n",
       "  </tbody>\n",
       "</table>\n",
       "</div>"
      ],
      "text/plain": [
       "Empty DataFrame\n",
       "Columns: [customer, table, timestamp]\n",
       "Index: []"
      ]
     },
     "execution_count": 45,
     "metadata": {},
     "output_type": "execute_result"
    }
   ],
   "source": [
    "import pandas as pd\n",
    "import datetime\n",
    "\n",
    "df_hist = pd.DataFrame(columns = ['customer', 'table','timestamp'])\n",
    "df_hist"
   ]
  },
  {
   "cell_type": "code",
   "execution_count": 8,
   "id": "00e78518",
   "metadata": {},
   "outputs": [
    {
     "data": {
      "text/html": [
       "<div>\n",
       "<style scoped>\n",
       "    .dataframe tbody tr th:only-of-type {\n",
       "        vertical-align: middle;\n",
       "    }\n",
       "\n",
       "    .dataframe tbody tr th {\n",
       "        vertical-align: top;\n",
       "    }\n",
       "\n",
       "    .dataframe thead th {\n",
       "        text-align: right;\n",
       "    }\n",
       "</style>\n",
       "<table border=\"1\" class=\"dataframe\">\n",
       "  <thead>\n",
       "    <tr style=\"text-align: right;\">\n",
       "      <th></th>\n",
       "      <th>customer</th>\n",
       "      <th>table</th>\n",
       "      <th>timestamp</th>\n",
       "    </tr>\n",
       "  </thead>\n",
       "  <tbody>\n",
       "    <tr>\n",
       "      <th>0</th>\n",
       "      <td>4903333245581</td>\n",
       "      <td>Total 115//product3|5|75/product1|2|10/product...</td>\n",
       "      <td>2022-04-16 21:21:49.183006</td>\n",
       "    </tr>\n",
       "    <tr>\n",
       "      <th>1</th>\n",
       "      <td>4903333245581</td>\n",
       "      <td>Total 115//product3|5|75/product1|2|10/product...</td>\n",
       "      <td>2022-04-16 21:22:01.989188</td>\n",
       "    </tr>\n",
       "  </tbody>\n",
       "</table>\n",
       "</div>"
      ],
      "text/plain": [
       "        customer                                              table  \\\n",
       "0  4903333245581  Total 115//product3|5|75/product1|2|10/product...   \n",
       "1  4903333245581  Total 115//product3|5|75/product1|2|10/product...   \n",
       "\n",
       "                    timestamp  \n",
       "0  2022-04-16 21:21:49.183006  \n",
       "1  2022-04-16 21:22:01.989188  "
      ]
     },
     "execution_count": 8,
     "metadata": {},
     "output_type": "execute_result"
    }
   ],
   "source": [
    "import pandas as pd\n",
    "import datetime\n",
    "\n",
    "table = 'Total 115//product3|5|75/product1|2|10/product2|1|10/product4|1|20'\n",
    "customer = '4903333245581'\n",
    "time = datetime.datetime.now()\n",
    "\n",
    "data = {\n",
    "    'customer':customer,\n",
    "    'table':table,\n",
    "    'timestamp':time\n",
    "}\n",
    "\n",
    "\n",
    "# df_hist = pd.DataFrame(columns = ['customer', 'table','timestamp'])\n",
    "df_hist = df_hist.append(data, ignore_index = True)\n",
    "df_hist\n"
   ]
  },
  {
   "cell_type": "code",
   "execution_count": 9,
   "id": "18ea6291",
   "metadata": {},
   "outputs": [],
   "source": [
    "df_hist.to_csv('data/historys.csv',index=False)"
   ]
  },
  {
   "cell_type": "code",
   "execution_count": 17,
   "id": "6a32c61d",
   "metadata": {},
   "outputs": [
    {
     "data": {
      "text/html": [
       "<div>\n",
       "<style scoped>\n",
       "    .dataframe tbody tr th:only-of-type {\n",
       "        vertical-align: middle;\n",
       "    }\n",
       "\n",
       "    .dataframe tbody tr th {\n",
       "        vertical-align: top;\n",
       "    }\n",
       "\n",
       "    .dataframe thead th {\n",
       "        text-align: right;\n",
       "    }\n",
       "</style>\n",
       "<table border=\"1\" class=\"dataframe\">\n",
       "  <thead>\n",
       "    <tr style=\"text-align: right;\">\n",
       "      <th></th>\n",
       "      <th>customer</th>\n",
       "      <th>table</th>\n",
       "      <th>timestamp</th>\n",
       "    </tr>\n",
       "  </thead>\n",
       "  <tbody>\n",
       "    <tr>\n",
       "      <th>0</th>\n",
       "      <td>4903333245581</td>\n",
       "      <td>Total 115//product3|5|75/product1|2|10/product...</td>\n",
       "      <td>2022-04-16 21:21:49.183006</td>\n",
       "    </tr>\n",
       "    <tr>\n",
       "      <th>1</th>\n",
       "      <td>4903333245581</td>\n",
       "      <td>Total 115//product3|5|75/product1|2|10/product...</td>\n",
       "      <td>2022-04-16 21:22:01.989188</td>\n",
       "    </tr>\n",
       "    <tr>\n",
       "      <th>2</th>\n",
       "      <td>4903333245581</td>\n",
       "      <td>Total 115//product3|5|75/product1|2|10/product...</td>\n",
       "      <td>2022-04-16 21:27:22.154996</td>\n",
       "    </tr>\n",
       "    <tr>\n",
       "      <th>3</th>\n",
       "      <td>4903333245581</td>\n",
       "      <td>Total 115//product3|5|75/product1|2|10/product...</td>\n",
       "      <td>2022-04-16 21:28:55.276515</td>\n",
       "    </tr>\n",
       "  </tbody>\n",
       "</table>\n",
       "</div>"
      ],
      "text/plain": [
       "        customer                                              table  \\\n",
       "0  4903333245581  Total 115//product3|5|75/product1|2|10/product...   \n",
       "1  4903333245581  Total 115//product3|5|75/product1|2|10/product...   \n",
       "2  4903333245581  Total 115//product3|5|75/product1|2|10/product...   \n",
       "3  4903333245581  Total 115//product3|5|75/product1|2|10/product...   \n",
       "\n",
       "                    timestamp  \n",
       "0  2022-04-16 21:21:49.183006  \n",
       "1  2022-04-16 21:22:01.989188  \n",
       "2  2022-04-16 21:27:22.154996  \n",
       "3  2022-04-16 21:28:55.276515  "
      ]
     },
     "execution_count": 17,
     "metadata": {},
     "output_type": "execute_result"
    }
   ],
   "source": [
    "df_hist = pd.read_csv('data/historys.csv')\n",
    "df_hist"
   ]
  },
  {
   "cell_type": "code",
   "execution_count": 16,
   "id": "5a37d00b",
   "metadata": {},
   "outputs": [],
   "source": [
    "import pandas as pd\n",
    "import datetime\n",
    "\n",
    "table = 'Total 115//product3|5|75/product1|2|10/product2|1|10/product4|1|20'\n",
    "customer = '4903333245581'\n",
    "time = datetime.datetime.now()\n",
    "\n",
    "data = {\n",
    "    'customer':customer,\n",
    "    'table':table,\n",
    "    'timestamp':time\n",
    "}\n",
    "\n",
    "\n",
    "df_hist = pd.DataFrame(columns = ['customer', 'table','timestamp'])\n",
    "df_hist = df_hist.append(data, ignore_index = True)\n",
    "df_hist.to_csv('data/historys.csv', mode='a', header=False,index=False)"
   ]
  },
  {
   "cell_type": "code",
   "execution_count": 30,
   "id": "8f89e3db",
   "metadata": {},
   "outputs": [
    {
     "data": {
      "text/plain": [
       "'115'"
      ]
     },
     "execution_count": 30,
     "metadata": {},
     "output_type": "execute_result"
    }
   ],
   "source": [
    "total = table.split('//')[0].split(' ')[1]\n",
    "total"
   ]
  },
  {
   "cell_type": "code",
   "execution_count": 42,
   "id": "3699dec8",
   "metadata": {},
   "outputs": [
    {
     "data": {
      "text/html": [
       "<div>\n",
       "<style scoped>\n",
       "    .dataframe tbody tr th:only-of-type {\n",
       "        vertical-align: middle;\n",
       "    }\n",
       "\n",
       "    .dataframe tbody tr th {\n",
       "        vertical-align: top;\n",
       "    }\n",
       "\n",
       "    .dataframe thead th {\n",
       "        text-align: right;\n",
       "    }\n",
       "</style>\n",
       "<table border=\"1\" class=\"dataframe\">\n",
       "  <thead>\n",
       "    <tr style=\"text-align: right;\">\n",
       "      <th></th>\n",
       "      <th>id</th>\n",
       "      <th>name</th>\n",
       "      <th>balance</th>\n",
       "    </tr>\n",
       "  </thead>\n",
       "  <tbody>\n",
       "    <tr>\n",
       "      <th>0</th>\n",
       "      <td>4903333245581</td>\n",
       "      <td>phawit</td>\n",
       "      <td>770</td>\n",
       "    </tr>\n",
       "  </tbody>\n",
       "</table>\n",
       "</div>"
      ],
      "text/plain": [
       "              id    name  balance\n",
       "0  4903333245581  phawit      770"
      ]
     },
     "execution_count": 42,
     "metadata": {},
     "output_type": "execute_result"
    }
   ],
   "source": [
    "df_customer"
   ]
  },
  {
   "cell_type": "code",
   "execution_count": 44,
   "id": "59d95537",
   "metadata": {},
   "outputs": [
    {
     "name": "stderr",
     "output_type": "stream",
     "text": [
      "<ipython-input-44-14c598cbf1ae>:9: SettingWithCopyWarning: \n",
      "A value is trying to be set on a copy of a slice from a DataFrame\n",
      "\n",
      "See the caveats in the documentation: https://pandas.pydata.org/pandas-docs/stable/user_guide/indexing.html#returning-a-view-versus-a-copy\n",
      "  df_customer['balance'][i] -= int(buy)\n"
     ]
    },
    {
     "data": {
      "text/html": [
       "<div>\n",
       "<style scoped>\n",
       "    .dataframe tbody tr th:only-of-type {\n",
       "        vertical-align: middle;\n",
       "    }\n",
       "\n",
       "    .dataframe tbody tr th {\n",
       "        vertical-align: top;\n",
       "    }\n",
       "\n",
       "    .dataframe thead th {\n",
       "        text-align: right;\n",
       "    }\n",
       "</style>\n",
       "<table border=\"1\" class=\"dataframe\">\n",
       "  <thead>\n",
       "    <tr style=\"text-align: right;\">\n",
       "      <th></th>\n",
       "      <th>id</th>\n",
       "      <th>name</th>\n",
       "      <th>balance</th>\n",
       "    </tr>\n",
       "  </thead>\n",
       "  <tbody>\n",
       "    <tr>\n",
       "      <th>0</th>\n",
       "      <td>4903333245581</td>\n",
       "      <td>phawit</td>\n",
       "      <td>540</td>\n",
       "    </tr>\n",
       "  </tbody>\n",
       "</table>\n",
       "</div>"
      ],
      "text/plain": [
       "              id    name  balance\n",
       "0  4903333245581  phawit      540"
      ]
     },
     "execution_count": 44,
     "metadata": {},
     "output_type": "execute_result"
    }
   ],
   "source": [
    "table = 'Total 115//product3|5|75/product1|2|10/product2|1|10/product4|1|20'\n",
    "buy = table.split('//')[0].split(' ')[1]\n",
    "customer = '4903333245581'\n",
    "\n",
    "def update_balance(buy,customer,df_customer):\n",
    "    for i,id in enumerate(df_customer['id']):\n",
    "        if str(customer) == str(id):\n",
    "            name = df_customer['name'][i]\n",
    "            df_customer['balance'][i] -= int(buy)\n",
    "            return df_customer\n",
    "            \n",
    "df_customer = update_balance(buy,customer,df_customer) \n",
    "df_customer"
   ]
  },
  {
   "cell_type": "code",
   "execution_count": null,
   "id": "20001fe5",
   "metadata": {},
   "outputs": [],
   "source": []
  },
  {
   "cell_type": "code",
   "execution_count": null,
   "id": "c1e2b1a4",
   "metadata": {},
   "outputs": [],
   "source": []
  },
  {
   "cell_type": "code",
   "execution_count": 17,
   "id": "b04c138f",
   "metadata": {},
   "outputs": [
    {
     "name": "stdout",
     "output_type": "stream",
     "text": [
      "2022-04-16 20:42:30.468360\n"
     ]
    }
   ],
   "source": [
    "x = datetime.datetime.now()\n",
    "print(str(x))"
   ]
  },
  {
   "cell_type": "code",
   "execution_count": null,
   "id": "d85ce7d4",
   "metadata": {},
   "outputs": [],
   "source": []
  },
  {
   "cell_type": "code",
   "execution_count": 5,
   "id": "c725eeef",
   "metadata": {},
   "outputs": [
    {
     "data": {
      "text/plain": [
       "True"
      ]
     },
     "execution_count": 5,
     "metadata": {},
     "output_type": "execute_result"
    }
   ],
   "source": [
    "'4903333245581' in str(df_customer['id'])"
   ]
  },
  {
   "cell_type": "code",
   "execution_count": 7,
   "id": "fde05ab0",
   "metadata": {},
   "outputs": [
    {
     "data": {
      "text/plain": [
       "'4903333245581'"
      ]
     },
     "execution_count": 7,
     "metadata": {},
     "output_type": "execute_result"
    }
   ],
   "source": [
    "a = ['4903333245581']\n",
    "a[-1]"
   ]
  },
  {
   "cell_type": "markdown",
   "id": "5f20eabd",
   "metadata": {},
   "source": [
    "product"
   ]
  },
  {
   "cell_type": "code",
   "execution_count": 93,
   "id": "858f70fb",
   "metadata": {},
   "outputs": [
    {
     "data": {
      "text/plain": [
       "'Total 115//product1|2|10/product2|1|10/product3|5|75/product4|1|20'"
      ]
     },
     "execution_count": 93,
     "metadata": {},
     "output_type": "execute_result"
    }
   ],
   "source": [
    "import pandas as pd\n",
    "\n",
    "def find_product_data(df,barcode):\n",
    "    for i,b in enumerate(df['barcode']):\n",
    "        if str(b) == str(barcode):\n",
    "            return df['name'][i],df['price'][i]\n",
    "    else:\n",
    "        return None,None\n",
    "\n",
    "df = pd.read_csv('data/products.csv')  \n",
    "\n",
    "\n",
    "\n",
    "Barcodes = ['9786161820626', '123456','9781786495792', '9781786495792', '9187786495792', '9781786495792', '9781786495792', '9781186495798', '9187786495792', '9781786495792']\n",
    "\n",
    "\n",
    "def create_table(df,Barcodes):\n",
    "    # table = 'Total 9999//aaaaa|12|120/bbbb|1|100/ccccc|12|120/ddddd|1|100'\n",
    "    df_barcode = []\n",
    "    for i in set(df['barcode']):\n",
    "        df_barcode.append(str(i))\n",
    "    df['barcode'] = df_barcode\n",
    "    keys = list(set(Barcodes).intersection(set(df['barcode'])))  #grt barcode key only in database\n",
    "    \n",
    "    table = ''\n",
    "    Total = 0 \n",
    "    for k in keys:\n",
    "        barcode = k\n",
    "        count = Barcodes.count(k)\n",
    "        name,price = find_product_data(df,barcode)\n",
    "        total = price*count\n",
    "        Total += total\n",
    "#         print(barcode,count,name,price,total)\n",
    "        table += f'/{name}|{count}|{total}'\n",
    "\n",
    "    table = f'Total {Total}/{table}'\n",
    "    return table\n",
    "create_table(df,Barcodes)"
   ]
  },
  {
   "cell_type": "code",
   "execution_count": 90,
   "id": "7c5ea95e",
   "metadata": {},
   "outputs": [
    {
     "data": {
      "text/plain": [
       "['9187786495792', '9786161820626', '9781786495792', '9781186495798']"
      ]
     },
     "execution_count": 90,
     "metadata": {},
     "output_type": "execute_result"
    }
   ],
   "source": [
    "b = []\n",
    "for i in set(df['barcode']):\n",
    "    b.append(str(i))\n",
    "b"
   ]
  },
  {
   "cell_type": "code",
   "execution_count": 76,
   "id": "52f2a093",
   "metadata": {},
   "outputs": [
    {
     "data": {
      "text/plain": [
       "{'9187786495792', '9781186495798', '9781786495792', '9786161820626'}"
      ]
     },
     "execution_count": 76,
     "metadata": {},
     "output_type": "execute_result"
    }
   ],
   "source": [
    "Barcodes = ['9786161820626', '9781786495792', '9781786495792', '9187786495792', '9781786495792', '9781786495792', '9781186495798', '9187786495792', '9781786495792']\n",
    "set(Barcodes)"
   ]
  },
  {
   "cell_type": "code",
   "execution_count": null,
   "id": "f554cf07",
   "metadata": {},
   "outputs": [],
   "source": []
  },
  {
   "cell_type": "code",
   "execution_count": 70,
   "id": "40eaaf68",
   "metadata": {},
   "outputs": [
    {
     "data": {
      "text/html": [
       "<div>\n",
       "<style scoped>\n",
       "    .dataframe tbody tr th:only-of-type {\n",
       "        vertical-align: middle;\n",
       "    }\n",
       "\n",
       "    .dataframe tbody tr th {\n",
       "        vertical-align: top;\n",
       "    }\n",
       "\n",
       "    .dataframe thead th {\n",
       "        text-align: right;\n",
       "    }\n",
       "</style>\n",
       "<table border=\"1\" class=\"dataframe\">\n",
       "  <thead>\n",
       "    <tr style=\"text-align: right;\">\n",
       "      <th></th>\n",
       "      <th>barcode</th>\n",
       "      <th>name</th>\n",
       "      <th>price</th>\n",
       "    </tr>\n",
       "  </thead>\n",
       "  <tbody>\n",
       "    <tr>\n",
       "      <th>0</th>\n",
       "      <td>9786161820626</td>\n",
       "      <td>book1</td>\n",
       "      <td>5</td>\n",
       "    </tr>\n",
       "    <tr>\n",
       "      <th>1</th>\n",
       "      <td>9781786495792</td>\n",
       "      <td>book2</td>\n",
       "      <td>20</td>\n",
       "    </tr>\n",
       "  </tbody>\n",
       "</table>\n",
       "</div>"
      ],
      "text/plain": [
       "         barcode   name  price\n",
       "0  9786161820626  book1      5\n",
       "1  9781786495792  book2     20"
      ]
     },
     "execution_count": 70,
     "metadata": {},
     "output_type": "execute_result"
    }
   ],
   "source": [
    "df = pd.read_csv('data/products.csv')  \n",
    "df"
   ]
  },
  {
   "cell_type": "code",
   "execution_count": 73,
   "id": "d0577837",
   "metadata": {},
   "outputs": [
    {
     "data": {
      "text/plain": [
       "('book1', 5)"
      ]
     },
     "execution_count": 73,
     "metadata": {},
     "output_type": "execute_result"
    }
   ],
   "source": [
    "def find_product_data(df,barcode):\n",
    "    for i,b in enumerate(df['barcode']):\n",
    "        if str(b) == str(barcode):\n",
    "            return df['name'][i],df['price'][i]\n",
    "    else:\n",
    "        return None,None\n",
    "        \n",
    "name,price = find_product_data(df,'9786161820626')\n",
    "name,price"
   ]
  },
  {
   "cell_type": "code",
   "execution_count": 43,
   "id": "8bf41c33",
   "metadata": {},
   "outputs": [
    {
     "data": {
      "text/plain": [
       "'book1'"
      ]
     },
     "execution_count": 43,
     "metadata": {},
     "output_type": "execute_result"
    }
   ],
   "source": [
    "df['name'][0]"
   ]
  },
  {
   "cell_type": "code",
   "execution_count": null,
   "id": "caa1183a",
   "metadata": {},
   "outputs": [],
   "source": []
  }
 ],
 "metadata": {
  "kernelspec": {
   "display_name": "store",
   "language": "python",
   "name": "store"
  },
  "language_info": {
   "codemirror_mode": {
    "name": "ipython",
    "version": 3
   },
   "file_extension": ".py",
   "mimetype": "text/x-python",
   "name": "python",
   "nbconvert_exporter": "python",
   "pygments_lexer": "ipython3",
   "version": "3.8.8"
  }
 },
 "nbformat": 4,
 "nbformat_minor": 5
}
